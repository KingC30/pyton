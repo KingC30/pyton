{
 "cells": [
  {
   "cell_type": "code",
   "execution_count": 1,
   "metadata": {},
   "outputs": [],
   "source": [
    "\"\"\"\n",
    "File:   knights_move_sum.py\n",
    "Author:  gia bao vo\n",
    "Date:    10/8/2020\n",
    "Section: 31\n",
    "E-mail:  giabaov@umbc.edu\n",
    "Description:\n",
    "  Writing codes to make an equation to move a knight on a chess.\n",
    "\"\"\""
   ]
  },
  {
   "cell_type": "code",
   "execution_count": null,
   "metadata": {},
   "outputs": [],
   "source": [
    "import sys\n",
    "from random import randint, seed\n"
   ]
  },
  {
   "cell_type": "code",
   "execution_count": 8,
   "metadata": {},
   "outputs": [
    {
     "name": "stdout",
     "output_type": "stream",
     "text": [
      "What is the row that you want to start at? 3\n",
      "What is the column that you want to start at? 2\n",
      "[4, 52, 14, 78]\n",
      "[97, 43, 36, 71]\n",
      "[38, 21, 31, 75]\n",
      "[64, 4, 73, 63]\n",
      "73\n",
      "a 43\n",
      "b 71\n"
     ]
    },
    {
     "ename": "IndexError",
     "evalue": "list index out of range",
     "output_type": "error",
     "traceback": [
      "\u001b[1;31m---------------------------------------------------------------------------\u001b[0m",
      "\u001b[1;31mIndexError\u001b[0m                                Traceback (most recent call last)",
      "\u001b[1;32m<ipython-input-8-cdfe995d845e>\u001b[0m in \u001b[0;36m<module>\u001b[1;34m\u001b[0m\n\u001b[0;32m     22\u001b[0m     \u001b[0mprint\u001b[0m\u001b[1;33m(\u001b[0m\u001b[1;34m\"b\"\u001b[0m\u001b[1;33m,\u001b[0m \u001b[0mthe_matrix\u001b[0m\u001b[1;33m[\u001b[0m\u001b[0muser_row\u001b[0m\u001b[1;33m-\u001b[0m\u001b[1;36m2\u001b[0m\u001b[1;33m]\u001b[0m\u001b[1;33m[\u001b[0m\u001b[0muser_column\u001b[0m\u001b[1;33m+\u001b[0m\u001b[1;36m1\u001b[0m\u001b[1;33m]\u001b[0m\u001b[1;33m)\u001b[0m \u001b[1;31m# up 2 right 1\u001b[0m\u001b[1;33m\u001b[0m\u001b[1;33m\u001b[0m\u001b[0m\n\u001b[0;32m     23\u001b[0m \u001b[1;33m\u001b[0m\u001b[0m\n\u001b[1;32m---> 24\u001b[1;33m     \u001b[0mprint\u001b[0m\u001b[1;33m(\u001b[0m\u001b[1;34m\"c\"\u001b[0m\u001b[1;33m,\u001b[0m \u001b[0mthe_matrix\u001b[0m\u001b[1;33m[\u001b[0m\u001b[0muser_row\u001b[0m\u001b[1;33m+\u001b[0m\u001b[1;36m2\u001b[0m\u001b[1;33m]\u001b[0m\u001b[1;33m[\u001b[0m\u001b[0muser_column\u001b[0m\u001b[1;33m-\u001b[0m\u001b[1;36m1\u001b[0m\u001b[1;33m]\u001b[0m\u001b[1;33m)\u001b[0m \u001b[1;31m# down 2 left 1\u001b[0m\u001b[1;33m\u001b[0m\u001b[1;33m\u001b[0m\u001b[0m\n\u001b[0m\u001b[0;32m     25\u001b[0m     \u001b[0mprint\u001b[0m\u001b[1;33m(\u001b[0m\u001b[1;34m\"d\"\u001b[0m\u001b[1;33m,\u001b[0m \u001b[0mthe_matrix\u001b[0m\u001b[1;33m[\u001b[0m\u001b[0muser_row\u001b[0m\u001b[1;33m+\u001b[0m\u001b[1;36m2\u001b[0m\u001b[1;33m]\u001b[0m\u001b[1;33m[\u001b[0m\u001b[0muser_column\u001b[0m\u001b[1;33m+\u001b[0m\u001b[1;36m1\u001b[0m\u001b[1;33m]\u001b[0m\u001b[1;33m)\u001b[0m \u001b[1;31m# down 2 right 1\u001b[0m\u001b[1;33m\u001b[0m\u001b[1;33m\u001b[0m\u001b[0m\n\u001b[0;32m     26\u001b[0m \u001b[1;33m\u001b[0m\u001b[0m\n",
      "\u001b[1;31mIndexError\u001b[0m: list index out of range"
     ]
    }
   ],
   "source": [
    "if len(sys.argv) >= 2:\n",
    "   seed(sys.argv[1])\n",
    "\n",
    "if __name__ == '__main__':\n",
    "    the_matrix = [[randint(0, 100) for j in range(4)] for i in range(4)]\n",
    "   # the rest of your program goes here\n",
    "\n",
    "    user_row = int(input(\"What is the row that you want to start at? \"))\n",
    "    user_column = int(input(\"What is the column that you want to start at? \"))\n",
    "\n",
    "    the_matrix = []\n",
    "    for i in range(4):\n",
    "        new_row = []\n",
    "        for j in range(4):\n",
    "             new_row.append(randint(0, 100))\n",
    "        print(new_row)#print all value on chess board\n",
    "        the_matrix.append(new_row)\n",
    "    \n",
    "    print(the_matrix[user_row][user_column])\n",
    "        \n",
    "    print(\"a\", the_matrix[user_row-2][user_column-1]) # up 2 left 1\n",
    "    print(\"b\", the_matrix[user_row-2][user_column+1]) # up 2 right 1\n",
    "\n",
    "    print(\"c\", the_matrix[user_row+2][user_column-1]) # down 2 left 1\n",
    "    print(\"d\", the_matrix[user_row+2][user_column+1]) # down 2 right 1\n",
    "\n",
    "    print(\"e\", the_matrix[user_row-1][user_column-2]) # up 1 left 2\n",
    "    print(\"f\", the_matrix[user_row-1][user_column+2]) # up 1 right 2\n",
    "\n",
    "    print(\"g\", the_matrix[user_row+1][user_column-2]) # down 1 left 2\n",
    "    print(\"h\", the_matrix[user_row+1][user_column+2]) # down 1 right 2"
   ]
  },
  {
   "cell_type": "code",
   "execution_count": 9,
   "metadata": {},
   "outputs": [
    {
     "name": "stdout",
     "output_type": "stream",
     "text": [
      "What is the row that you want to start at? 3\n",
      "What is the column that you want to start at? 2\n",
      "[4, 52, 14, 78]\n",
      "[97, 43, 36, 71]\n",
      "[38, 21, 31, 75]\n",
      "[64, 4, 73, 63]\n",
      "73\n",
      "43\n",
      "71\n",
      "38\n",
      "The sum of the chess moves is  152\n"
     ]
    }
   ],
   "source": [
    "if len(sys.argv) >= 2:\n",
    "   seed(sys.argv[1])\n",
    "\n",
    "if __name__ == '__main__':\n",
    "    the_matrix = [[randint(0, 100) for j in range(4)] for i in range(4)]\n",
    "   # the rest of your program goes here\n",
    "\n",
    "    user_row = int(input(\"What is the row that you want to start at? \"))\n",
    "    user_column = int(input(\"What is the column that you want to start at? \"))\n",
    "\n",
    "    the_matrix = []\n",
    "    for i in range(4):\n",
    "        new_row = []\n",
    "        for j in range(4):\n",
    "             new_row.append(randint(0, 100))\n",
    "        print(new_row)#print all value on chess board\n",
    "        the_matrix.append(new_row)\n",
    "    \n",
    "    print(the_matrix[user_row][user_column])\n",
    "    row_list = [-2 , -2, +2, +2, -1, -1, +1, +1]\n",
    "    collumn_list = [-1, +1, -1, +1, -2, +2 , -2, +2]\n",
    "    \n",
    "    \n",
    "    sum_move = 0\n",
    "    \n",
    "    possible_moves_list = [[-2, -1],\n",
    "                           [-2, +1],\n",
    "                           [+2, -1],\n",
    "                           [+2, +1],\n",
    "                           [-1, -2],\n",
    "                           [-1, +2],\n",
    "                           [+1, -2],\n",
    "                           [+1, +2]]\n",
    "    \n",
    "    wack_list =[]\n",
    "    for x in possible_moves_list:\n",
    "        new_row = user_row + x[0]\n",
    "        new_col = user_column + x[1]\n",
    "       \n",
    "        # checking the bounds (if its in the 'board' or not)\n",
    "        if 0 <= new_row <= 3 and 0 <= new_col <= 3:\n",
    "            wack_list.append(the_matrix[new_row][new_col])\n",
    "            print( the_matrix[new_row][new_col])\n",
    "\n",
    "    for i in wack_list:\n",
    "        sum_move += i\n",
    "        \n",
    "    \n",
    "    \n",
    "    \n",
    "    \n",
    "    \n",
    "    \n",
    "    print(\"The sum of the chess moves is \", sum_move)"
   ]
  },
  {
   "cell_type": "code",
   "execution_count": null,
   "metadata": {},
   "outputs": [],
   "source": [
    "   row_list = [-2 , -2, +2, +2, -1, -1, +1, +1]\n",
    "    collumn_list = [-1, +1, -1, +1, -2, +2 , -2, +2]\n",
    "    \n",
    "    \n",
    "    \n",
    "    \n",
    "    \n",
    "    \n",
    "    d = the_matrix[user_row][user_column]\n",
    "    for a in range(len(row_list)):\n",
    "        for b in range(len(collumn_list)):\n",
    "            while d !< 3\n",
    "                print(the_matrix[user_row][user_column]+the_matrix[user_row[a]][user_column[b]])"
   ]
  },
  {
   "cell_type": "code",
   "execution_count": 1,
   "metadata": {},
   "outputs": [
    {
     "name": "stdout",
     "output_type": "stream",
     "text": [
      "What is the row you want to start at?: 3\n",
      "What is the col you want to start at?: 2\n",
      "35 33 80 89 \n",
      "82 0 55 7 \n",
      "77 68 5 22 \n",
      "28 74 59 88 \n",
      "The sum of the chess moves is 84.\n"
     ]
    }
   ],
   "source": [
    "UP_TWO = -2\n",
    "UP_ONE = -1\n",
    "DOWN_TWO = +2\n",
    "DOWN_ONE = +1\n",
    "LEFT_TWO = -2\n",
    "RIGHT_TWO = +2\n",
    "LEFT_ONE = -1\n",
    "RIGHT_ONE = +1\n",
    "\n",
    "import sys\n",
    "from random import randint, seed\n",
    "\n",
    "if len(sys.argv) >= 2:\n",
    "   seed(sys.argv[1])\n",
    "\n",
    "if __name__ == '__main__':\n",
    "\n",
    "    the_matrix = [[randint(0, 100) for j in range(4)] for i in range(4)]\n",
    "\n",
    "    board_row = int(input(\"What is the row you want to start at?: \"))\n",
    "    board_col = int(input(\"What is the col you want to start at?: \"))\n",
    "\n",
    "    sum_moves = 0\n",
    "\n",
    "    possible_moves_list = [[UP_TWO, LEFT_ONE],\n",
    "                           [UP_TWO, RIGHT_ONE],\n",
    "                           [UP_ONE, LEFT_TWO],\n",
    "                           [UP_ONE, RIGHT_TWO],\n",
    "                           [DOWN_ONE, LEFT_TWO],\n",
    "                           [DOWN_ONE, RIGHT_TWO],\n",
    "                           [DOWN_TWO, LEFT_ONE],\n",
    "                           [DOWN_TWO, RIGHT_ONE]]\n",
    "\n",
    "    # this prints out the_matrix list in a grid like form      \n",
    "    for x in the_matrix:\n",
    "        for y in x:\n",
    "            print(y, end=' ')\n",
    "        print()\n",
    "\n",
    "    # this checks for all the possible places the board_position can go \n",
    "    # and then adds the number of that position to the sum_moves\n",
    "    for i in possible_moves_list:\n",
    "        new_row = board_row + i[0]\n",
    "        new_col = board_col + i[1]\n",
    "\n",
    "        # checking the bounds (if its in the 'board' or not)\n",
    "        if 0 <= new_row <= 3 and 0 <= new_col <= 3:\n",
    "            sum_moves += the_matrix[new_row][new_col]\n",
    "\n",
    "    print(\"The sum of the chess moves is {}.\".format(sum_moves))"
   ]
  },
  {
   "cell_type": "code",
   "execution_count": null,
   "metadata": {},
   "outputs": [],
   "source": []
  }
 ],
 "metadata": {
  "kernelspec": {
   "display_name": "Python 3",
   "language": "python",
   "name": "python3"
  },
  "language_info": {
   "codemirror_mode": {
    "name": "ipython",
    "version": 3
   },
   "file_extension": ".py",
   "mimetype": "text/x-python",
   "name": "python",
   "nbconvert_exporter": "python",
   "pygments_lexer": "ipython3",
   "version": "3.8.3"
  }
 },
 "nbformat": 4,
 "nbformat_minor": 4
}
